{
  "nbformat": 4,
  "nbformat_minor": 0,
  "metadata": {
    "colab": {
      "name": "revi and hodiya.ipynb",
      "provenance": [],
      "collapsed_sections": [],
      "include_colab_link": true
    },
    "kernelspec": {
      "display_name": "Python 3",
      "name": "python3"
    },
    "language_info": {
      "name": "python"
    }
  },
  "cells": [
    {
      "cell_type": "markdown",
      "metadata": {
        "id": "view-in-github",
        "colab_type": "text"
      },
      "source": [
        "<a href=\"https://colab.research.google.com/github/RevitalMarbel/AC_for_dnbdst/blob/master/revi_and_hodiya.ipynb\" target=\"_parent\"><img src=\"https://colab.research.google.com/assets/colab-badge.svg\" alt=\"Open In Colab\"/></a>"
      ]
    },
    {
      "cell_type": "code",
      "metadata": {
        "colab": {
          "base_uri": "https://localhost:8080/"
        },
        "id": "A72cuOpWMZFq",
        "outputId": "70c0d4cf-4eeb-4a31-b5ce-c5ccc5083bec"
      },
      "source": [
        "!pwd"
      ],
      "execution_count": 2,
      "outputs": [
        {
          "output_type": "stream",
          "text": [
            "/content\n"
          ],
          "name": "stdout"
        }
      ]
    },
    {
      "cell_type": "code",
      "metadata": {
        "id": "KtRJLQUotWRM"
      },
      "source": [
        "!cd sample_data/"
      ],
      "execution_count": 3,
      "outputs": []
    },
    {
      "cell_type": "code",
      "metadata": {
        "colab": {
          "base_uri": "https://localhost:8080/"
        },
        "id": "TJ2ZBPg6MbqC",
        "outputId": "faf45922-5bea-4820-d2eb-a979f1feb715"
      },
      "source": [
        "!git clone https://github.com/OReznyk/SCD.git"
      ],
      "execution_count": 4,
      "outputs": [
        {
          "output_type": "stream",
          "text": [
            "Cloning into 'SCD'...\n",
            "remote: Enumerating objects: 48, done.\u001b[K\n",
            "remote: Counting objects: 100% (48/48), done.\u001b[K\n",
            "remote: Compressing objects: 100% (41/41), done.\u001b[K\n",
            "remote: Total 48 (delta 4), reused 13 (delta 1), pack-reused 0\u001b[K\n",
            "Unpacking objects: 100% (48/48), done.\n"
          ],
          "name": "stdout"
        }
      ]
    },
    {
      "cell_type": "code",
      "metadata": {
        "colab": {
          "base_uri": "https://localhost:8080/"
        },
        "id": "Qi0YT0MMMqJ0",
        "outputId": "a6170357-d2f2-4f18-dcae-34f8c8804948"
      },
      "source": [
        "cd SCD"
      ],
      "execution_count": 6,
      "outputs": [
        {
          "output_type": "stream",
          "text": [
            "/content/SCD\n"
          ],
          "name": "stdout"
        }
      ]
    },
    {
      "cell_type": "code",
      "metadata": {
        "colab": {
          "base_uri": "https://localhost:8080/"
        },
        "id": "fJFEr_5lMsTt",
        "outputId": "d2f657bf-dcee-4893-e4c3-e17f8a1a7591"
      },
      "source": [
        "cd pre_processing/"
      ],
      "execution_count": 7,
      "outputs": [
        {
          "output_type": "stream",
          "text": [
            "/content/SCD/pre_processing\n"
          ],
          "name": "stdout"
        }
      ]
    },
    {
      "cell_type": "code",
      "metadata": {
        "id": "z_G9wNUdMvJY"
      },
      "source": [
        "!python convert_origin_2_raw_data.py\n",
        "\n"
      ],
      "execution_count": 12,
      "outputs": []
    },
    {
      "cell_type": "code",
      "metadata": {
        "colab": {
          "base_uri": "https://localhost:8080/"
        },
        "id": "KYzTZue0v1XV",
        "outputId": "4c87b4a1-a68f-4bf5-84c8-1f4c440004ee"
      },
      "source": [
        "!python convert_raw_data_2_data_frame.py"
      ],
      "execution_count": 16,
      "outputs": [
        {
          "output_type": "stream",
          "text": [
            "Done 1 files, out of: 3\n",
            "Done 2 files, out of: 3\n",
            "Done 3 files, out of: 3\n",
            "Original Length: 22511\n",
            "After dropna Length: 22511\n",
            "Traceback (most recent call last):\n",
            "  File \"convert_raw_data_2_data_frame.py\", line 50, in <module>\n",
            "    pd.to_pickle( \"Pickles/general_df_4_all_files.pkl\")\n",
            "TypeError: to_pickle() missing 1 required positional argument: 'filepath_or_buffer'\n"
          ],
          "name": "stdout"
        }
      ]
    },
    {
      "cell_type": "code",
      "metadata": {
        "id": "pDwAFPsCxf6v"
      },
      "source": [
        "from google.colab import drive\n",
        "drive.mount('/content/drive')"
      ],
      "execution_count": null,
      "outputs": []
    }
  ]
}